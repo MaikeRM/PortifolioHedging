{
 "cells": [
  {
   "cell_type": "code",
   "execution_count": 42,
   "metadata": {},
   "outputs": [],
   "source": [
    "from options import blackscholes as bs\n",
    "from bizdays.bizdays import Calendar #pip3 install https://github.com/wilsonfreitas/python-bizdays\n",
    "\n",
    "cal = Calendar.load(filename=r\"C:\\Users\\maike\\anaconda3\\Lib\\bizdays\\ANBIMA.cal\")"
   ]
  },
  {
   "cell_type": "code",
   "execution_count": 84,
   "metadata": {},
   "outputs": [],
   "source": [
    "asset_price = 33.85\n",
    "strike_price = 31.01\n",
    "time_to_expiration = cal.bizdays('2022-04-12', '2022-05-20')\n",
    "risk_free_rate = 11.75\n",
    "qtd = 10000"
   ]
  },
  {
   "cell_type": "code",
   "execution_count": 85,
   "metadata": {},
   "outputs": [
    {
     "data": {
      "text/plain": [
       "{'delta': 0.5782157973095728,\n",
       " 'gamma': 0.11496483723977133,\n",
       " 'theta': -0.033981308417225554,\n",
       " 'vega': 0.0425401992365655,\n",
       " 'rho': 0.018532757514520395}"
      ]
     },
     "execution_count": 85,
     "metadata": {},
     "output_type": "execute_result"
    }
   ],
   "source": [
    "bsm = {'short_petr4': bs.black_scholes(K=33.76,\n",
    "                                        St=asset_price,\n",
    "                                        r=risk_free_rate,\n",
    "                                        t=time_to_expiration,\n",
    "                                        v=31.30,\n",
    "                                        type='c')}\n",
    "bsm['short_petr4']['greeks']"
   ]
  },
  {
   "cell_type": "code",
   "execution_count": 86,
   "metadata": {},
   "outputs": [],
   "source": [
    "bsm['a'] = bs.black_scholes(K=34.51,\n",
    "                        St=asset_price,\n",
    "                        r=risk_free_rate,\n",
    "                        t=time_to_expiration,\n",
    "                        v=32.95,\n",
    "                        type='c')\n",
    "\n",
    "bsm['b'] = bs.black_scholes(K=35.26,\n",
    "                        St=asset_price,\n",
    "                        r=risk_free_rate,\n",
    "                        t=time_to_expiration,\n",
    "                        v=33.66,\n",
    "                        type='c')"
   ]
  },
  {
   "cell_type": "code",
   "execution_count": 87,
   "metadata": {},
   "outputs": [
    {
     "data": {
      "text/plain": [
       "{'short_petr4': {'value': {'option value': 1.610085917163115,\n",
       "   'intrinsic value': 0.09000000000000341,\n",
       "   'time value': 1.5200859171631116},\n",
       "  'greeks': {'delta': 0.5782157973095728,\n",
       "   'gamma': 0.11496483723977133,\n",
       "   'theta': -0.033981308417225554,\n",
       "   'vega': 0.0425401992365655,\n",
       "   'rho': 0.018532757514520395}},\n",
       " 'a': {'value': {'option value': 1.31496432880253,\n",
       "   'intrinsic value': 0,\n",
       "   'time value': 1.31496432880253},\n",
       "  'greeks': {'delta': 0.4940209712555761,\n",
       "   'gamma': 0.11134245473105785,\n",
       "   'theta': -0.03466675982936925,\n",
       "   'vega': 0.04337169189784432,\n",
       "   'rho': 0.01589677715290344}},\n",
       " 'b': {'value': {'option value': 1.0397762028222335,\n",
       "   'intrinsic value': 0,\n",
       "   'time value': 1.0397762028222335},\n",
       "  'greeks': {'delta': 0.4163378582310132,\n",
       "   'gamma': 0.10660029457749903,\n",
       "   'theta': -0.03354462845811788,\n",
       "   'vega': 0.04241921913964324,\n",
       "   'rho': 0.013467649514116532}}}"
      ]
     },
     "execution_count": 87,
     "metadata": {},
     "output_type": "execute_result"
    }
   ],
   "source": [
    "bsm"
   ]
  },
  {
   "cell_type": "code",
   "execution_count": 88,
   "metadata": {},
   "outputs": [
    {
     "name": "stdout",
     "output_type": "stream",
     "text": [
      "[[  425.78952313 -1070.01707043]\n",
      " [ -435.35011688  1117.61724204]]\n"
     ]
    }
   ],
   "source": [
    "import numpy as np\n",
    "\n",
    "greeks = np.array([[bsm['a']['greeks']['gamma'], bsm['b']['greeks']['gamma']], [bsm['a']['greeks']['vega'], bsm['b']['greeks']['vega']]])\n",
    "portfolio_greeks = [[bsm['short_petr4']['greeks']['gamma']*qtd], [bsm['short_petr4']['greeks']['vega']*qtd]]\n",
    "\n",
    "# We need to round otherwise we can end up with a non-invertible matrix\n",
    "inv = np.linalg.inv(greeks)\n",
    "print(inv)"
   ]
  },
  {
   "cell_type": "code",
   "execution_count": 89,
   "metadata": {},
   "outputs": [
    {
     "name": "stdout",
     "output_type": "stream",
     "text": [
      "[[ 34320.83862493]\n",
      " [-25062.95183441]]\n"
     ]
    }
   ],
   "source": [
    "w = np.dot(inv, portfolio_greeks)\n",
    "print(w)"
   ]
  },
  {
   "cell_type": "code",
   "execution_count": 90,
   "metadata": {},
   "outputs": [
    {
     "name": "stdout",
     "output_type": "stream",
     "text": [
      "[[0.]\n",
      " [0.]]\n"
     ]
    }
   ],
   "source": [
    "print(np.round(np.dot(greeks, w) - portfolio_greeks))"
   ]
  },
  {
   "cell_type": "code",
   "execution_count": 91,
   "metadata": {},
   "outputs": [
    {
     "name": "stdout",
     "output_type": "stream",
     "text": [
      "[[738.]\n",
      " [  0.]\n",
      " [  0.]]\n"
     ]
    }
   ],
   "source": [
    "# Greeks including delta\n",
    "portfolio_greeks = [[bsm['short_petr4']['greeks']['delta']*-qtd],\n",
    "                    [bsm['short_petr4']['greeks']['gamma']*-qtd],\n",
    "                    [bsm['short_petr4']['greeks']['vega']*-qtd]]\n",
    "\n",
    "greeks = np.array([[bsm['a']['greeks']['delta'], bsm['b']['greeks']['delta']],\n",
    "                    [bsm['a']['greeks']['gamma'], bsm['b']['greeks']['gamma']],\n",
    "                    [bsm['a']['greeks']['vega'], bsm['b']['greeks']['vega']]])\n",
    "\n",
    "print(np.round(np.dot(greeks, w) + portfolio_greeks))"
   ]
  },
  {
   "cell_type": "code",
   "execution_count": null,
   "metadata": {},
   "outputs": [],
   "source": []
  },
  {
   "cell_type": "code",
   "execution_count": null,
   "metadata": {},
   "outputs": [],
   "source": []
  }
 ],
 "metadata": {
  "interpreter": {
   "hash": "2a89ebda5b1df6869a80ed231ce3cbd82800ba4c96516904a7ea152290f5b260"
  },
  "kernelspec": {
   "display_name": "Python 3.8.8 ('base')",
   "language": "python",
   "name": "python3"
  },
  "language_info": {
   "codemirror_mode": {
    "name": "ipython",
    "version": 3
   },
   "file_extension": ".py",
   "mimetype": "text/x-python",
   "name": "python",
   "nbconvert_exporter": "python",
   "pygments_lexer": "ipython3",
   "version": "3.8.8"
  },
  "orig_nbformat": 4
 },
 "nbformat": 4,
 "nbformat_minor": 2
}
